{
 "cells": [
  {
   "cell_type": "markdown",
   "id": "5d5f853b-2847-499c-9aee-8c2881b69bd9",
   "metadata": {
    "tags": []
   },
   "source": [
    "#                                                                     Numpy\n"
   ]
  },
  {
   "cell_type": "code",
   "execution_count": 7,
   "id": "0342ae5c-ebc0-4f7c-9196-cffec68a85a9",
   "metadata": {
    "tags": []
   },
   "outputs": [],
   "source": [
    "import numpy as np"
   ]
  },
  {
   "cell_type": "code",
   "execution_count": 9,
   "id": "e7170abf-fa19-4bfc-bc95-8bd8ace10c79",
   "metadata": {},
   "outputs": [
    {
     "name": "stdout",
     "output_type": "stream",
     "text": [
      "[10, 2, 3, 5] <class 'list'>\n",
      "[10  2  3  5] <class 'numpy.ndarray'>\n"
     ]
    }
   ],
   "source": [
    "liste = [10,2,3,5]\n",
    "array = np.array(liste)\n",
    "print(liste,type(liste))\n",
    "print(array,type(array))"
   ]
  },
  {
   "cell_type": "code",
   "execution_count": 63,
   "id": "541f33c1-583e-4850-9027-de8fc5a6baea",
   "metadata": {
    "tags": []
   },
   "outputs": [
    {
     "name": "stdout",
     "output_type": "stream",
     "text": [
      "[0 0 0 0 0 0 0 0 0 0]\n",
      "[1 1 1 1 1 1 1 1 1 1]\n",
      "[[1 0 0 0 0]\n",
      " [0 1 0 0 0]\n",
      " [0 0 1 0 0]\n",
      " [0 0 0 1 0]\n",
      " [0 0 0 0 1]]\n"
     ]
    }
   ],
   "source": [
    "a = np.zeros(10,dtype=int)\n",
    "print(a)\n",
    "b = np.ones(10,dtype=int)\n",
    "print(b)\n",
    "c = np.eye(5,dtype=int)\n",
    "print(c)"
   ]
  },
  {
   "cell_type": "code",
   "execution_count": 39,
   "id": "e6129931-8318-4954-bd7a-0a780fbfb81f",
   "metadata": {
    "tags": []
   },
   "outputs": [
    {
     "name": "stdout",
     "output_type": "stream",
     "text": [
      "[ 5 12 21 32]\n",
      "[ 6  8 10 12]\n",
      "[-4 -4 -4 -4]\n",
      "[0.2        0.33333333 0.42857143 0.5       ]\n"
     ]
    }
   ],
   "source": [
    "a = np.array([1,2,3,4])\n",
    "b = np.array([5,6,7,8])\n",
    "print(a*b)\n",
    "print(a+b)\n",
    "print(a-b)\n",
    "print(a/b)"
   ]
  },
  {
   "cell_type": "code",
   "execution_count": 114,
   "id": "6e80b2ad",
   "metadata": {},
   "outputs": [
    {
     "name": "stdout",
     "output_type": "stream",
     "text": [
      "[0 2 4 6 8]\n",
      "[0 1 2 3 4 5 6 7 8 9]\n"
     ]
    }
   ],
   "source": [
    "a = np.arange(0,10,2)\n",
    "print(a)\n",
    "b = np.arange(0,10,1)\n",
    "print(b)"
   ]
  },
  {
   "cell_type": "markdown",
   "id": "45d6c256",
   "metadata": {
    "tags": []
   },
   "source": [
    "## Random"
   ]
  },
  {
   "cell_type": "code",
   "execution_count": 112,
   "id": "e004481f-129b-4e5e-ad42-bad80bd86725",
   "metadata": {
    "scrolled": false,
    "tags": []
   },
   "outputs": [
    {
     "name": "stdout",
     "output_type": "stream",
     "text": [
      "[[ 0.5345646   0.36368047]\n",
      " [-0.45579885 -1.2306132 ]]\n",
      "[39 82 43  0 80 22 77 53 10  3]\n",
      "[[0.86204215 0.89756927]\n",
      " [0.54753155 0.00456937]]\n",
      "Sayı = 1\n",
      "1 'nci sayı  76\n",
      "[[6 7 6 6 2]\n",
      " [2 6 5 2 7]\n",
      " [2 0 9 5 7]]\n",
      "6\n",
      "[[6 7 6]\n",
      " [2 6 5]\n",
      " [2 0 9]]\n"
     ]
    }
   ],
   "source": [
    "a = np.random.randn(2,2)\n",
    "print(a)\n",
    "b = np.random.randint(0,100,10)\n",
    "print(b)\n",
    "c = np.random.rand(2,2)\n",
    "print(c)\n",
    "d = np.random.randint(0,10)\n",
    "print(\"Sayı =\",d)\n",
    "for i in range(d):\n",
    "    print(i+1,\"'nci sayı \",np.random.randint(0,100))\n",
    "f = np.random.randint(0,10,size = (3,5))\n",
    "print(f)\n",
    "print(f[0][0])\n",
    "print(f[0:3,0:3])"
   ]
  },
  {
   "cell_type": "markdown",
   "id": "77c2e0d1",
   "metadata": {
    "tags": []
   },
   "source": [
    "## Metodlar"
   ]
  },
  {
   "cell_type": "code",
   "execution_count": 110,
   "id": "74ed7e0a-d926-422b-8ce0-33671455de24",
   "metadata": {
    "tags": []
   },
   "outputs": [
    {
     "name": "stdout",
     "output_type": "stream",
     "text": [
      "[ 0  1  2  3  4  5  6  7  8  9 10 11 12 13 14 15 16 17 18 19 20 21 22 23\n",
      " 24 25 26 27 28 29 30 31 32 33 34 35 36 37 38 39 40 41 42 43 44 45 46 47\n",
      " 48 49 50 51 52 53 54 55 56 57 58 59 60 61 62 63 64 65 66 67 68 69 70 71\n",
      " 72 73 74 75 76 77 78 79 80 81 82 83 84 85 86 87 88 89 90 91 92 93 94 95\n",
      " 96 97 98 99]\n",
      "En büyük sayı 99\n",
      "En büyük sayı index 99\n",
      "En küçük sayı 0\n",
      "En küçük sayı index 0\n",
      "Sayılar toplamı 4950\n",
      "Sayılar ortalaması 49.5\n",
      "1\n",
      "(100,)\n",
      "100\n",
      "int32\n",
      "[[ 0  1  2  3  4  5  6  7  8  9]\n",
      " [10 11 12 13 14 15 16 17 18 19]\n",
      " [20 21 22 23 24 25 26 27 28 29]\n",
      " [30 31 32 33 34 35 36 37 38 39]\n",
      " [40 41 42 43 44 45 46 47 48 49]\n",
      " [50 51 52 53 54 55 56 57 58 59]\n",
      " [60 61 62 63 64 65 66 67 68 69]\n",
      " [70 71 72 73 74 75 76 77 78 79]\n",
      " [80 81 82 83 84 85 86 87 88 89]\n",
      " [90 91 92 93 94 95 96 97 98 99]]\n"
     ]
    }
   ],
   "source": [
    "a = np.arange(100)\n",
    "print(a)\n",
    "print(\"En büyük sayı\",np.max(a))\n",
    "print(\"En büyük sayı index\",np.argmax(a))\n",
    "print(\"En küçük sayı\",np.min(a))\n",
    "print(\"En küçük sayı index\",np.argmin(a))\n",
    "print(\"Sayılar toplamı\",np.sum(a))\n",
    "print(\"Sayılar ortalaması\",np.average(a))\n",
    "print(a.ndim)\n",
    "print(a.shape)\n",
    "print(a.size)\n",
    "print(a.dtype)\n",
    "print(a.reshape(10,10))"
   ]
  },
  {
   "cell_type": "code",
   "execution_count": 120,
   "id": "d94a90b5-d84c-4e17-b690-0c67eba77781",
   "metadata": {
    "tags": []
   },
   "outputs": [
    {
     "name": "stdout",
     "output_type": "stream",
     "text": [
      "[0 1 2 3 4 5 6 7 8 9]\n",
      "[1, 3, 5, 7, 9]\n",
      "[0, 2, 4, 6, 8]\n"
     ]
    }
   ],
   "source": [
    "a = np.arange(0,10)\n",
    "print(a)\n",
    "cift = []\n",
    "tek = []\n",
    "for i in a:\n",
    "    if i % 2 == 0:\n",
    "        cift.append(i)\n",
    "    else:\n",
    "        tek.append(i)\n",
    "print(tek)\n",
    "print(cift) "
   ]
  }
 ],
 "metadata": {
  "kernelspec": {
   "display_name": "Python 3 (ipykernel)",
   "language": "python",
   "name": "python3"
  },
  "language_info": {
   "codemirror_mode": {
    "name": "ipython",
    "version": 3
   },
   "file_extension": ".py",
   "mimetype": "text/x-python",
   "name": "python",
   "nbconvert_exporter": "python",
   "pygments_lexer": "ipython3",
   "version": "3.11.3"
  }
 },
 "nbformat": 4,
 "nbformat_minor": 5
}
