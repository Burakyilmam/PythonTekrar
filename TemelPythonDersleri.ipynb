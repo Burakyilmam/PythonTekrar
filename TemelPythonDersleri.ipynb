{
 "cells": [
  {
   "cell_type": "markdown",
   "id": "a0085b15",
   "metadata": {},
   "source": [
    "# Python Dersleri"
   ]
  },
  {
   "cell_type": "markdown",
   "id": "878f0c53",
   "metadata": {},
   "source": [
    "## Değişkenler"
   ]
  },
  {
   "cell_type": "code",
   "execution_count": 57,
   "id": "a55bd107",
   "metadata": {},
   "outputs": [
    {
     "data": {
      "text/plain": [
       "int"
      ]
     },
     "execution_count": 57,
     "metadata": {},
     "output_type": "execute_result"
    }
   ],
   "source": [
    "x = 10\n",
    "type(x)"
   ]
  },
  {
   "cell_type": "code",
   "execution_count": 58,
   "id": "f91eaca4",
   "metadata": {},
   "outputs": [
    {
     "data": {
      "text/plain": [
       "float"
      ]
     },
     "execution_count": 58,
     "metadata": {},
     "output_type": "execute_result"
    }
   ],
   "source": [
    "y = 10.3\n",
    "type(y)"
   ]
  },
  {
   "cell_type": "code",
   "execution_count": 59,
   "id": "ac11bd75",
   "metadata": {},
   "outputs": [
    {
     "data": {
      "text/plain": [
       "bool"
      ]
     },
     "execution_count": 59,
     "metadata": {},
     "output_type": "execute_result"
    }
   ],
   "source": [
    "z = True\n",
    "type(z)"
   ]
  },
  {
   "cell_type": "code",
   "execution_count": 60,
   "id": "55a8e5bc",
   "metadata": {},
   "outputs": [
    {
     "data": {
      "text/plain": [
       "str"
      ]
     },
     "execution_count": 60,
     "metadata": {},
     "output_type": "execute_result"
    }
   ],
   "source": [
    "a = \"1\"\n",
    "type(a)"
   ]
  },
  {
   "cell_type": "code",
   "execution_count": 61,
   "id": "7c3c6709",
   "metadata": {},
   "outputs": [
    {
     "data": {
      "text/plain": [
       "str"
      ]
     },
     "execution_count": 61,
     "metadata": {},
     "output_type": "execute_result"
    }
   ],
   "source": [
    "b = '1'\n",
    "type(b)"
   ]
  },
  {
   "cell_type": "markdown",
   "id": "3a32a89b",
   "metadata": {},
   "source": [
    "## Input"
   ]
  },
  {
   "cell_type": "code",
   "execution_count": 62,
   "id": "28097b70",
   "metadata": {},
   "outputs": [
    {
     "name": "stdout",
     "output_type": "stream",
     "text": [
      "Yaşınızı Giriniz.5\n"
     ]
    }
   ],
   "source": [
    "yas = input(\"Yaşınızı Giriniz.\")"
   ]
  },
  {
   "cell_type": "code",
   "execution_count": 63,
   "id": "579b31c6",
   "metadata": {},
   "outputs": [
    {
     "data": {
      "text/plain": [
       "'5'"
      ]
     },
     "execution_count": 63,
     "metadata": {},
     "output_type": "execute_result"
    }
   ],
   "source": [
    "yas"
   ]
  },
  {
   "cell_type": "code",
   "execution_count": 64,
   "id": "b5bf4ba3",
   "metadata": {},
   "outputs": [
    {
     "data": {
      "text/plain": [
       "str"
      ]
     },
     "execution_count": 64,
     "metadata": {},
     "output_type": "execute_result"
    }
   ],
   "source": [
    "type(yas)"
   ]
  },
  {
   "cell_type": "code",
   "execution_count": 65,
   "id": "ad55b465",
   "metadata": {},
   "outputs": [
    {
     "data": {
      "text/plain": [
       "int"
      ]
     },
     "execution_count": 65,
     "metadata": {},
     "output_type": "execute_result"
    }
   ],
   "source": [
    "inputInt = int(yas)\n",
    "type(inputInt)"
   ]
  },
  {
   "cell_type": "markdown",
   "id": "71b32d39",
   "metadata": {},
   "source": [
    "## String"
   ]
  },
  {
   "cell_type": "code",
   "execution_count": 70,
   "id": "27bdf55b",
   "metadata": {},
   "outputs": [
    {
     "name": "stdout",
     "output_type": "stream",
     "text": [
      "Burak Yılmam\n"
     ]
    }
   ],
   "source": [
    "Name = \"Burak Yılmam\"\n",
    "print(Name)"
   ]
  },
  {
   "cell_type": "code",
   "execution_count": 69,
   "id": "4b0bccf8",
   "metadata": {},
   "outputs": [
    {
     "name": "stdout",
     "output_type": "stream",
     "text": [
      "Burak \n",
      " Yılmam\n"
     ]
    }
   ],
   "source": [
    "print(\"Burak \\n Yılmam\")"
   ]
  },
  {
   "cell_type": "code",
   "execution_count": 71,
   "id": "2857e7d0",
   "metadata": {},
   "outputs": [
    {
     "data": {
      "text/plain": [
       "12"
      ]
     },
     "execution_count": 71,
     "metadata": {},
     "output_type": "execute_result"
    }
   ],
   "source": [
    "len(Name)"
   ]
  },
  {
   "cell_type": "code",
   "execution_count": 83,
   "id": "aec3eb3e",
   "metadata": {},
   "outputs": [
    {
     "data": {
      "text/plain": [
       "str"
      ]
     },
     "execution_count": 83,
     "metadata": {},
     "output_type": "execute_result"
    }
   ],
   "source": [
    "type(Name)"
   ]
  },
  {
   "cell_type": "markdown",
   "id": "aaa9a835",
   "metadata": {},
   "source": [
    "## Slicing"
   ]
  },
  {
   "cell_type": "code",
   "execution_count": 86,
   "id": "62541615",
   "metadata": {},
   "outputs": [
    {
     "data": {
      "text/plain": [
       "'B'"
      ]
     },
     "execution_count": 86,
     "metadata": {},
     "output_type": "execute_result"
    }
   ],
   "source": [
    "Name[0]"
   ]
  },
  {
   "cell_type": "code",
   "execution_count": 76,
   "id": "811eebf6",
   "metadata": {},
   "outputs": [
    {
     "data": {
      "text/plain": [
       "'rak Yılmam'"
      ]
     },
     "execution_count": 76,
     "metadata": {},
     "output_type": "execute_result"
    }
   ],
   "source": [
    "Name[2:]"
   ]
  },
  {
   "cell_type": "code",
   "execution_count": 80,
   "id": "81cbd4a0",
   "metadata": {},
   "outputs": [
    {
     "data": {
      "text/plain": [
       "'Burak Y'"
      ]
     },
     "execution_count": 80,
     "metadata": {},
     "output_type": "execute_result"
    }
   ],
   "source": [
    "Name[0:7]"
   ]
  },
  {
   "cell_type": "code",
   "execution_count": 78,
   "id": "8674698e",
   "metadata": {},
   "outputs": [
    {
     "data": {
      "text/plain": [
       "'Bura'"
      ]
     },
     "execution_count": 78,
     "metadata": {},
     "output_type": "execute_result"
    }
   ],
   "source": [
    "Name[:4]"
   ]
  },
  {
   "cell_type": "code",
   "execution_count": 87,
   "id": "3f38097c",
   "metadata": {},
   "outputs": [
    {
     "data": {
      "text/plain": [
       "'m'"
      ]
     },
     "execution_count": 87,
     "metadata": {},
     "output_type": "execute_result"
    }
   ],
   "source": [
    "Name[-1]"
   ]
  },
  {
   "cell_type": "code",
   "execution_count": 89,
   "id": "02e1ef6d",
   "metadata": {},
   "outputs": [
    {
     "data": {
      "text/plain": [
       "'BaYm'"
      ]
     },
     "execution_count": 89,
     "metadata": {},
     "output_type": "execute_result"
    }
   ],
   "source": [
    "Name[::3]"
   ]
  },
  {
   "cell_type": "code",
   "execution_count": 90,
   "id": "a87bf0bb",
   "metadata": {},
   "outputs": [
    {
     "data": {
      "text/plain": [
       "'mamlıY karuB'"
      ]
     },
     "execution_count": 90,
     "metadata": {},
     "output_type": "execute_result"
    }
   ],
   "source": [
    "Name[::-1]"
   ]
  },
  {
   "cell_type": "markdown",
   "id": "6194ff4c",
   "metadata": {},
   "source": [
    "## String Methodları"
   ]
  },
  {
   "cell_type": "code",
   "execution_count": 94,
   "id": "113ccf4c",
   "metadata": {},
   "outputs": [
    {
     "data": {
      "text/plain": [
       "'Ali veli'"
      ]
     },
     "execution_count": 94,
     "metadata": {},
     "output_type": "execute_result"
    }
   ],
   "source": [
    "Name = \"ali veli\"\n",
    "Name.capitalize()"
   ]
  },
  {
   "cell_type": "code",
   "execution_count": 95,
   "id": "3fb317f1",
   "metadata": {},
   "outputs": [
    {
     "data": {
      "text/plain": [
       "['ali', 'veli']"
      ]
     },
     "execution_count": 95,
     "metadata": {},
     "output_type": "execute_result"
    }
   ],
   "source": [
    "Name.split()"
   ]
  },
  {
   "cell_type": "code",
   "execution_count": 96,
   "id": "cf5273e2",
   "metadata": {},
   "outputs": [
    {
     "data": {
      "text/plain": [
       "'ali veli'"
      ]
     },
     "execution_count": 96,
     "metadata": {},
     "output_type": "execute_result"
    }
   ],
   "source": [
    "Name.lower()"
   ]
  },
  {
   "cell_type": "code",
   "execution_count": 97,
   "id": "498df758",
   "metadata": {},
   "outputs": [
    {
     "data": {
      "text/plain": [
       "'ALI VELI'"
      ]
     },
     "execution_count": 97,
     "metadata": {},
     "output_type": "execute_result"
    }
   ],
   "source": [
    "Name.upper()"
   ]
  },
  {
   "cell_type": "markdown",
   "id": "67e8c956",
   "metadata": {},
   "source": [
    "## Listeler"
   ]
  },
  {
   "cell_type": "code",
   "execution_count": 123,
   "id": "8a22a022",
   "metadata": {},
   "outputs": [
    {
     "data": {
      "text/plain": [
       "True"
      ]
     },
     "execution_count": 123,
     "metadata": {},
     "output_type": "execute_result"
    }
   ],
   "source": [
    "list = [10,\"20\",True]\n",
    "list[2]"
   ]
  },
  {
   "cell_type": "code",
   "execution_count": 104,
   "id": "75471d20",
   "metadata": {},
   "outputs": [
    {
     "data": {
      "text/plain": [
       "list"
      ]
     },
     "execution_count": 104,
     "metadata": {},
     "output_type": "execute_result"
    }
   ],
   "source": [
    "\n",
    "type(list)"
   ]
  },
  {
   "cell_type": "markdown",
   "id": "77786c60",
   "metadata": {},
   "source": [
    "## Liste Metodları "
   ]
  },
  {
   "cell_type": "code",
   "execution_count": 116,
   "id": "c37b0379",
   "metadata": {},
   "outputs": [
    {
     "data": {
      "text/plain": [
       "[10, '20', True, 'Deneme']"
      ]
     },
     "execution_count": 116,
     "metadata": {},
     "output_type": "execute_result"
    }
   ],
   "source": [
    "list.append('Deneme')\n",
    "list"
   ]
  },
  {
   "cell_type": "code",
   "execution_count": 107,
   "id": "d6ed9f7a",
   "metadata": {},
   "outputs": [
    {
     "data": {
      "text/plain": [
       "[]"
      ]
     },
     "execution_count": 107,
     "metadata": {},
     "output_type": "execute_result"
    }
   ],
   "source": [
    "list.clear()\n",
    "list"
   ]
  },
  {
   "cell_type": "code",
   "execution_count": 117,
   "id": "9cdda4f3",
   "metadata": {},
   "outputs": [
    {
     "data": {
      "text/plain": [
       "[10, '20', True]"
      ]
     },
     "execution_count": 117,
     "metadata": {},
     "output_type": "execute_result"
    }
   ],
   "source": [
    "list.remove('Deneme')\n",
    "list"
   ]
  },
  {
   "cell_type": "code",
   "execution_count": 124,
   "id": "7d1fc202",
   "metadata": {},
   "outputs": [
    {
     "data": {
      "text/plain": [
       "[10, '20']"
      ]
     },
     "execution_count": 124,
     "metadata": {},
     "output_type": "execute_result"
    }
   ],
   "source": [
    "list.pop()\n",
    "list"
   ]
  },
  {
   "cell_type": "code",
   "execution_count": 126,
   "id": "0d1593a1",
   "metadata": {},
   "outputs": [
    {
     "data": {
      "text/plain": [
       "1"
      ]
     },
     "execution_count": 126,
     "metadata": {},
     "output_type": "execute_result"
    }
   ],
   "source": [
    "list.count(10)"
   ]
  },
  {
   "cell_type": "code",
   "execution_count": 130,
   "id": "8d95d2b0",
   "metadata": {},
   "outputs": [
    {
     "data": {
      "text/plain": [
       "[1, 2, 3]"
      ]
     },
     "execution_count": 130,
     "metadata": {},
     "output_type": "execute_result"
    }
   ],
   "source": [
    "list2 = [3,1,2]\n",
    "list2.sort()\n",
    "list2"
   ]
  },
  {
   "cell_type": "code",
   "execution_count": 131,
   "id": "7746f33e",
   "metadata": {},
   "outputs": [
    {
     "data": {
      "text/plain": [
       "[3, 2, 1]"
      ]
     },
     "execution_count": 131,
     "metadata": {},
     "output_type": "execute_result"
    }
   ],
   "source": [
    "list2.reverse()\n",
    "list2"
   ]
  },
  {
   "cell_type": "code",
   "execution_count": 133,
   "id": "8513f78e",
   "metadata": {},
   "outputs": [
    {
     "data": {
      "text/plain": [
       "[10, '20', 3, 2, 1]"
      ]
     },
     "execution_count": 133,
     "metadata": {},
     "output_type": "execute_result"
    }
   ],
   "source": [
    "list3 = list + list2\n",
    "list3"
   ]
  },
  {
   "cell_type": "markdown",
   "id": "a7cb5647",
   "metadata": {},
   "source": [
    "## Nested List"
   ]
  },
  {
   "cell_type": "code",
   "execution_count": 172,
   "id": "fc4d90d7",
   "metadata": {},
   "outputs": [
    {
     "data": {
      "text/plain": [
       "[3, [4, 5]]"
      ]
     },
     "execution_count": 172,
     "metadata": {},
     "output_type": "execute_result"
    }
   ],
   "source": [
    "list4 = [1,2,[3,[4,5]],\"5\",True]\n",
    "list4[2]"
   ]
  },
  {
   "cell_type": "code",
   "execution_count": 144,
   "id": "89300a99",
   "metadata": {},
   "outputs": [
    {
     "data": {
      "text/plain": [
       "[4, 5]"
      ]
     },
     "execution_count": 144,
     "metadata": {},
     "output_type": "execute_result"
    }
   ],
   "source": [
    "list4[2][1]"
   ]
  },
  {
   "cell_type": "code",
   "execution_count": 145,
   "id": "e04902f3",
   "metadata": {},
   "outputs": [
    {
     "data": {
      "text/plain": [
       "4"
      ]
     },
     "execution_count": 145,
     "metadata": {},
     "output_type": "execute_result"
    }
   ],
   "source": [
    "list4[2][1][0]"
   ]
  },
  {
   "cell_type": "code",
   "execution_count": 146,
   "id": "96f314e1",
   "metadata": {},
   "outputs": [
    {
     "data": {
      "text/plain": [
       "[[3, [4, 5]], '5', True]"
      ]
     },
     "execution_count": 146,
     "metadata": {},
     "output_type": "execute_result"
    }
   ],
   "source": [
    "list4[2:]"
   ]
  },
  {
   "cell_type": "code",
   "execution_count": 148,
   "id": "d12d61e6",
   "metadata": {},
   "outputs": [
    {
     "data": {
      "text/plain": [
       "[[3, [4, 5]]]"
      ]
     },
     "execution_count": 148,
     "metadata": {},
     "output_type": "execute_result"
    }
   ],
   "source": [
    "list4[2:3]"
   ]
  },
  {
   "cell_type": "code",
   "execution_count": 150,
   "id": "3053f2da",
   "metadata": {},
   "outputs": [
    {
     "data": {
      "text/plain": [
       "[1, [3, [4, 5]], True]"
      ]
     },
     "execution_count": 150,
     "metadata": {},
     "output_type": "execute_result"
    }
   ],
   "source": [
    "list4[::2]"
   ]
  },
  {
   "cell_type": "markdown",
   "id": "714af2ee",
   "metadata": {},
   "source": []
  },
  {
   "cell_type": "code",
   "execution_count": null,
   "id": "12815456",
   "metadata": {},
   "outputs": [],
   "source": []
  },
  {
   "cell_type": "markdown",
   "id": "dced19fc",
   "metadata": {},
   "source": [
    "## İf Else"
   ]
  },
  {
   "cell_type": "code",
   "execution_count": 168,
   "id": "c9deb42f",
   "metadata": {
    "scrolled": true
   },
   "outputs": [
    {
     "name": "stdout",
     "output_type": "stream",
     "text": [
      "Yaşınızı Giriniz.1\n",
      "Yaşınız 10dan küçük\n"
     ]
    }
   ],
   "source": [
    "yas = input(\"Yaşınızı Giriniz.\")\n",
    "yas = int(yas)\n",
    "if(yas < 10):\n",
    "    print(\"Yaşınız 10dan küçük\")\n",
    "\n",
    "elif(yas > 10):\n",
    "    print(\"Yaşınız 10dan büyük\")\n",
    "\n",
    "elif(yass == 10):\n",
    "    print(\"Yaşınız 10\")\n",
    "\n",
    "else:\n",
    "    print(\"Hata\")\n"
   ]
  },
  {
   "cell_type": "code",
   "execution_count": 169,
   "id": "efa1b61c",
   "metadata": {},
   "outputs": [
    {
     "name": "stdout",
     "output_type": "stream",
     "text": [
      "Yaşınızı Giriniz: 1\n",
      "Yaşınız 5'ten küçük\n"
     ]
    }
   ],
   "source": [
    "yas = input(\"Yaşınızı Giriniz: \")\n",
    "yas = int(yas)\n",
    "if yas < 10:\n",
    "    if yas > 5:\n",
    "        print(\"Yaşınız 5'ten büyük\")\n",
    "    else:\n",
    "        print(\"Yaşınız 5'ten küçük\")\n",
    "else: print(\"Yaşınız 10'dan büyük\")"
   ]
  },
  {
   "cell_type": "code",
   "execution_count": 177,
   "id": "f7d2fa48",
   "metadata": {},
   "outputs": [
    {
     "name": "stdout",
     "output_type": "stream",
     "text": [
      "Yok\n"
     ]
    }
   ],
   "source": [
    "Liste = [1,2,3]\n",
    "if 4 in Liste:\n",
    "    print(\"Var\")\n",
    "else:\n",
    "    print(\"Yok\")"
   ]
  },
  {
   "cell_type": "code",
   "execution_count": 179,
   "id": "2347a1bf",
   "metadata": {},
   "outputs": [
    {
     "name": "stdout",
     "output_type": "stream",
     "text": [
      "Var\n"
     ]
    }
   ],
   "source": [
    "Name = \"Burak\"\n",
    "if 'a' in Name:\n",
    "    print(\"Var\")\n",
    "else:\n",
    "    print(\"Yok\")"
   ]
  },
  {
   "cell_type": "markdown",
   "id": "6045ec70",
   "metadata": {},
   "source": [
    "## Döngüler"
   ]
  },
  {
   "cell_type": "code",
   "execution_count": 182,
   "id": "c4e7636b",
   "metadata": {},
   "outputs": [
    {
     "name": "stdout",
     "output_type": "stream",
     "text": [
      "1\n",
      "2\n",
      "3\n"
     ]
    }
   ],
   "source": [
    "Liste = [1,2,3]\n",
    "for eleman in Liste:\n",
    "    print(eleman)"
   ]
  },
  {
   "cell_type": "code",
   "execution_count": 187,
   "id": "41348485",
   "metadata": {},
   "outputs": [
    {
     "name": "stdout",
     "output_type": "stream",
     "text": [
      "0\n",
      "1\n",
      "2\n",
      "3\n",
      "4\n",
      "5\n",
      "6\n",
      "7\n",
      "8\n",
      "9\n"
     ]
    }
   ],
   "source": [
    "for i in range(10):\n",
    "    print(i)"
   ]
  },
  {
   "cell_type": "code",
   "execution_count": 188,
   "id": "97566c24",
   "metadata": {},
   "outputs": [
    {
     "name": "stdout",
     "output_type": "stream",
     "text": [
      "5\n",
      "6\n",
      "7\n",
      "8\n",
      "9\n"
     ]
    }
   ],
   "source": [
    "for i in range(5,10):\n",
    "    print(i)"
   ]
  },
  {
   "cell_type": "code",
   "execution_count": 189,
   "id": "3ef422fc",
   "metadata": {},
   "outputs": [
    {
     "name": "stdout",
     "output_type": "stream",
     "text": [
      "0\n",
      "2\n",
      "4\n",
      "6\n",
      "8\n"
     ]
    }
   ],
   "source": [
    "for i in range(0,10,2):\n",
    "    print(i)"
   ]
  },
  {
   "cell_type": "code",
   "execution_count": 196,
   "id": "f1585be2",
   "metadata": {},
   "outputs": [
    {
     "name": "stdout",
     "output_type": "stream",
     "text": [
      "B\n",
      "u\n",
      "r\n",
      "a\n",
      "k\n"
     ]
    }
   ],
   "source": [
    "name = \"Burak\"\n",
    "for i in range(len(name)):\n",
    "    print(name[i])"
   ]
  },
  {
   "cell_type": "markdown",
   "id": "16c46539",
   "metadata": {},
   "source": [
    "## While"
   ]
  },
  {
   "cell_type": "code",
   "execution_count": 237,
   "id": "14935375",
   "metadata": {},
   "outputs": [
    {
     "name": "stdout",
     "output_type": "stream",
     "text": [
      "Sayı 0\n",
      "Tek 1\n",
      "Sayı 1\n",
      "Çift 2\n",
      "Sayı 2\n",
      "Tek 3\n",
      "Sayı 3\n",
      "Çift 4\n",
      "Sayı 4\n",
      "Tek 5\n",
      "Sayı 5\n",
      "Çift 6\n",
      "Sayı 6\n",
      "Tek 7\n",
      "Sayı 7\n",
      "Çift 8\n",
      "Sayı 8\n",
      "Tek 9\n",
      "Sayı 9\n",
      "Çift 10\n"
     ]
    }
   ],
   "source": [
    "x = 0\n",
    "while x < 10:\n",
    "    print(\"Sayı\",x)\n",
    "    x = x+1\n",
    "    if(x % 2 == 0):\n",
    "        print(\"Çift\",x)\n",
    "    else:\n",
    "        print(\"Tek\",x)"
   ]
  },
  {
   "cell_type": "code",
   "execution_count": 223,
   "id": "28c83f6e",
   "metadata": {},
   "outputs": [
    {
     "name": "stdout",
     "output_type": "stream",
     "text": [
      "5\n",
      "6\n",
      "7\n",
      "8\n",
      "9\n",
      "10\n"
     ]
    }
   ],
   "source": [
    "x = 5\n",
    "while 5 <= x <= 10:\n",
    "    print(x)\n",
    "    x = x+1"
   ]
  },
  {
   "cell_type": "markdown",
   "id": "7e18b3e3",
   "metadata": {},
   "source": [
    "## Random"
   ]
  },
  {
   "cell_type": "code",
   "execution_count": 239,
   "id": "71ab8e32",
   "metadata": {},
   "outputs": [],
   "source": [
    "from random import randint"
   ]
  },
  {
   "cell_type": "code",
   "execution_count": 243,
   "id": "89199dfc",
   "metadata": {},
   "outputs": [
    {
     "data": {
      "text/plain": [
       "69"
      ]
     },
     "execution_count": 243,
     "metadata": {},
     "output_type": "execute_result"
    }
   ],
   "source": [
    "randint(0,100)"
   ]
  },
  {
   "cell_type": "markdown",
   "id": "55e9b83d",
   "metadata": {},
   "source": [
    "## Fonksiyon"
   ]
  },
  {
   "cell_type": "code",
   "execution_count": 244,
   "id": "2e6d03f6",
   "metadata": {},
   "outputs": [],
   "source": [
    "def Topla(s1,s2):\n",
    "    toplam = s1 + s2\n",
    "    print(toplam)"
   ]
  },
  {
   "cell_type": "code",
   "execution_count": 249,
   "id": "9f194d07",
   "metadata": {},
   "outputs": [
    {
     "name": "stdout",
     "output_type": "stream",
     "text": [
      "Sayı 1 5\n",
      "Sayı 2 6\n",
      "11\n"
     ]
    }
   ],
   "source": [
    "s1 = input(\"Sayı 1 \")\n",
    "s1 = int(s1)\n",
    "s2 = input(\"Sayı 2 \")\n",
    "s2 = int(s2)\n",
    "Topla(s1,s2)"
   ]
  },
  {
   "cell_type": "code",
   "execution_count": 250,
   "id": "758363a5",
   "metadata": {},
   "outputs": [],
   "source": [
    "def Toplama(*args):\n",
    "    return sum(args)"
   ]
  },
  {
   "cell_type": "code",
   "execution_count": 251,
   "id": "8b549712",
   "metadata": {},
   "outputs": [
    {
     "data": {
      "text/plain": [
       "18"
      ]
     },
     "execution_count": 251,
     "metadata": {},
     "output_type": "execute_result"
    }
   ],
   "source": [
    "Toplama(3,4,5,6)"
   ]
  },
  {
   "cell_type": "code",
   "execution_count": null,
   "id": "2e7a19e2",
   "metadata": {},
   "outputs": [],
   "source": [
    "def HesapMakinesi(s1,s2,islemtip):\n",
    "    if islemtip == \"+\":\n",
    "        toplam = s1 + s2\n",
    "        print(toplam)\n",
    "    if islemtip == \"-\":\n",
    "        fark = s1 - s2\n",
    "        print(fark)\n",
    "    if islemtip == \"/\":\n",
    "        bolme = s1 / s2\n",
    "        print(bolme)\n",
    "    if islemtip == \"*\":\n",
    "        carpma = s1 * s2\n",
    "        print(carpma)"
   ]
  },
  {
   "cell_type": "code",
   "execution_count": null,
   "id": "941d3a60",
   "metadata": {},
   "outputs": [],
   "source": [
    "s1 = int(input(s1))\n",
    "s2 = int(input(s2))\n",
    "islemtipi = input(\"+-/* \")\n",
    "HesapMakinesi(s1,s2,islemtipi)"
   ]
  },
  {
   "cell_type": "markdown",
   "id": "ce5e01d7",
   "metadata": {},
   "source": [
    "# OOP\n",
    "## Sınıf"
   ]
  },
  {
   "cell_type": "code",
   "execution_count": 41,
   "id": "77cda5b4",
   "metadata": {},
   "outputs": [],
   "source": [
    "class İnsan():\n",
    "    def __init__(self,name,surname,age,weight,height):\n",
    "        self.name = name\n",
    "        self.surname = surname\n",
    "        self.age = age;\n",
    "        self.weight = weight\n",
    "        self.height = height\n",
    "    def KitleEndeksi(self):\n",
    "        endeks = self.weight * self.height / 100\n",
    "        print(endeks)"
   ]
  },
  {
   "cell_type": "code",
   "execution_count": 42,
   "id": "6eb94610",
   "metadata": {},
   "outputs": [],
   "source": [
    "Ali = İnsan(\"Ali\",\"Yılmaz\",15,50,1.60)"
   ]
  },
  {
   "cell_type": "code",
   "execution_count": 43,
   "id": "522dfc9f",
   "metadata": {},
   "outputs": [
    {
     "name": "stdout",
     "output_type": "stream",
     "text": [
      "Adı :  Ali\n",
      "Soyadı :  Yılmaz\n",
      "Yaşı :  15\n",
      "Kilo :  50\n",
      "Uzunluk :  1.6\n"
     ]
    }
   ],
   "source": [
    "print(\"Adı : \",Ali.name)\n",
    "print(\"Soyadı : \",Ali.surname)\n",
    "print(\"Yaşı : \",Ali.age)\n",
    "print(\"Kilo : \",Ali.weight)\n",
    "print(\"Uzunluk : \",Ali.height)"
   ]
  },
  {
   "cell_type": "code",
   "execution_count": 44,
   "id": "f140e60f",
   "metadata": {},
   "outputs": [
    {
     "name": "stdout",
     "output_type": "stream",
     "text": [
      "Adınız Ali\n",
      "Soyadınız Cabbar\n",
      "Yaşınız 23\n",
      "Kilonuz 70\n",
      "Boyunuz 1.65\n"
     ]
    }
   ],
   "source": [
    "name = input(\"Adınız \")\n",
    "surname = input(\"Soyadınız \")\n",
    "age = int(input(\"Yaşınız \"))\n",
    "weight = float(input(\"Kilonuz \"))\n",
    "height = float(input(\"Boyunuz \"))"
   ]
  },
  {
   "cell_type": "code",
   "execution_count": 45,
   "id": "36738592",
   "metadata": {},
   "outputs": [],
   "source": [
    "insan1 = İnsan(name, surname, age,weight,height)"
   ]
  },
  {
   "cell_type": "code",
   "execution_count": 46,
   "id": "d8c0f710",
   "metadata": {},
   "outputs": [
    {
     "name": "stdout",
     "output_type": "stream",
     "text": [
      "Adı :  Ali\n",
      "Soyadı :  Cabbar\n",
      "Yaşı :  23\n",
      "Kilo :  70.0\n",
      "Boy :  1.65\n"
     ]
    }
   ],
   "source": [
    "print(\"Adı : \",insan1.name)\n",
    "print(\"Soyadı : \",insan1.surname)\n",
    "print(\"Yaşı : \",insan1.age)\n",
    "print(\"Kilo : \",insan1.weight)\n",
    "print(\"Boy : \",insan1.height)"
   ]
  },
  {
   "cell_type": "code",
   "execution_count": 47,
   "id": "216528cc",
   "metadata": {},
   "outputs": [
    {
     "name": "stdout",
     "output_type": "stream",
     "text": [
      "1.155\n"
     ]
    }
   ],
   "source": [
    "insan1.KitleEndeksi()"
   ]
  },
  {
   "cell_type": "markdown",
   "id": "e7307fff",
   "metadata": {},
   "source": [
    "## Inheritence"
   ]
  },
  {
   "cell_type": "code",
   "execution_count": 58,
   "id": "c2aa082a",
   "metadata": {},
   "outputs": [],
   "source": [
    "class İnsan():\n",
    "    def __init__(self,name,surname,age,weight,height):\n",
    "        self.name = name\n",
    "        self.surname = surname\n",
    "        self.age = age;\n",
    "        self.weight = weight\n",
    "        self.height = height\n",
    "class Bebek(İnsan):\n",
    "    def __init__(self, name, surname, age, weight, height, eyecolor):\n",
    "        super().__init__(name, surname, age, weight, height)\n",
    "        self.eyecolor = eyecolor"
   ]
  },
  {
   "cell_type": "code",
   "execution_count": 59,
   "id": "277bd721",
   "metadata": {},
   "outputs": [],
   "source": [
    "bebek1 = Bebek(\"Aslı\",\"Yıldız\",1,10,1.2,\"Ela\")"
   ]
  },
  {
   "cell_type": "code",
   "execution_count": 61,
   "id": "9990607f",
   "metadata": {},
   "outputs": [
    {
     "name": "stdout",
     "output_type": "stream",
     "text": [
      "Adı: Aslı\n",
      "Soyadı: Yıldız\n",
      "Yaşı: 1\n",
      "Kilosu: 10\n",
      "Boyutu: 1.2\n",
      "Göz Rengi: Ela\n"
     ]
    }
   ],
   "source": [
    "print(\"Adı:\", bebek1.name)\n",
    "print(\"Soyadı:\", bebek1.surname)\n",
    "print(\"Yaşı:\", bebek1.age)\n",
    "print(\"Kilosu:\", bebek1.weight)\n",
    "print(\"Boyutu:\", bebek1.height)\n",
    "print(\"Göz Rengi:\", bebek1.eyecolor)"
   ]
  },
  {
   "cell_type": "markdown",
   "id": "e5a353dd",
   "metadata": {},
   "source": [
    "## Polymorphism"
   ]
  },
  {
   "cell_type": "code",
   "execution_count": 63,
   "id": "6f11d328",
   "metadata": {},
   "outputs": [],
   "source": [
    "class İnsan():\n",
    "    def __init__(self,name,surname,age,weight,height):\n",
    "        self.name = name\n",
    "        self.surname = surname\n",
    "        self.age = age;\n",
    "        self.weight = weight\n",
    "        self.height = height\n",
    "    def Konus():\n",
    "        print(\"Ses 123\")\n",
    "class Bebek(İnsan):\n",
    "    def __init__(self, name, surname, age, weight, height, eyecolor):\n",
    "        super().__init__(name, surname, age, weight, height)\n",
    "        self.eyecolor = eyecolor\n",
    "    def Konus():\n",
    "        print(\"Agu bugu\")"
   ]
  },
  {
   "cell_type": "code",
   "execution_count": 69,
   "id": "9e93357d",
   "metadata": {},
   "outputs": [
    {
     "name": "stdout",
     "output_type": "stream",
     "text": [
      "Agu bugu\n"
     ]
    }
   ],
   "source": [
    "Bebek.Konus()"
   ]
  },
  {
   "cell_type": "code",
   "execution_count": 70,
   "id": "4979779a",
   "metadata": {},
   "outputs": [
    {
     "name": "stdout",
     "output_type": "stream",
     "text": [
      "Ses 123\n"
     ]
    }
   ],
   "source": [
    "İnsan.Konus()"
   ]
  },
  {
   "cell_type": "markdown",
   "id": "29077455",
   "metadata": {},
   "source": [
    "## Encaptulaion"
   ]
  },
  {
   "cell_type": "code",
   "execution_count": 71,
   "id": "548046a0",
   "metadata": {},
   "outputs": [],
   "source": [
    "class İnsan:\n",
    "    def __init__(self, name, surname, age, weight, height):\n",
    "        self.__name = name\n",
    "        self.__surname = surname\n",
    "        self.__age = age\n",
    "        self.__weight = weight\n",
    "        self.__height = height\n",
    "\n",
    "    def get_name(self):\n",
    "        return self.__name\n",
    "\n",
    "    def set_name(self, name):\n",
    "        self.__name = name\n",
    "\n",
    "    def get_surname(self):\n",
    "        return self.__surname\n",
    "\n",
    "    def set_surname(self, surname):\n",
    "        self.__surname = surname\n",
    "\n",
    "    def get_age(self):\n",
    "        return self.__age\n",
    "\n",
    "    def set_age(self, age):\n",
    "        self.__age = age\n",
    "\n",
    "    def get_weight(self):\n",
    "        return self.__weight\n",
    "\n",
    "    def set_weight(self, weight):\n",
    "        self.__weight = weight\n",
    "\n",
    "    def get_height(self):\n",
    "        return self.__height\n",
    "\n",
    "    def set_height(self, height):\n",
    "        self.__height = height\n"
   ]
  },
  {
   "cell_type": "code",
   "execution_count": 86,
   "id": "c8300ba1",
   "metadata": {},
   "outputs": [
    {
     "name": "stdout",
     "output_type": "stream",
     "text": [
      "30\n"
     ]
    }
   ],
   "source": [
    "insan1 = İnsan(\"John\", \"Doe\", 30, 70, 180)\n",
    "yas = insan1.get_age\n",
    "yas = yas()\n",
    "print(yas)"
   ]
  },
  {
   "cell_type": "markdown",
   "id": "335a772e",
   "metadata": {},
   "source": []
  },
  {
   "cell_type": "code",
   "execution_count": null,
   "id": "4c554b91",
   "metadata": {},
   "outputs": [],
   "source": []
  }
 ],
 "metadata": {
  "kernelspec": {
   "display_name": "Python 3 (ipykernel)",
   "language": "python",
   "name": "python3"
  },
  "language_info": {
   "codemirror_mode": {
    "name": "ipython",
    "version": 3
   },
   "file_extension": ".py",
   "mimetype": "text/x-python",
   "name": "python",
   "nbconvert_exporter": "python",
   "pygments_lexer": "ipython3",
   "version": "3.11.3"
  }
 },
 "nbformat": 4,
 "nbformat_minor": 5
}
